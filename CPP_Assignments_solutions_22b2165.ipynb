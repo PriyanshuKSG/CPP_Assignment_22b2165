{
 "cells": [
  {
   "cell_type": "markdown",
   "metadata": {},
   "source": [
    "# **Basic Python**"
   ]
  },
  {
   "cell_type": "markdown",
   "metadata": {},
   "source": [
    "## 1.a \n",
    "Give a function F that takes a single argument n. This function should print a sequence of n strings as described in the examples below: <br>\n",
    "Ex: **n = 3**\n",
    "\n",
    "--A--<br>\n",
    "-BAB-<br>\n",
    "CBABC<br>\n",
    "\n",
    "**n = 4**\n",
    "\n",
    "---A---<br>\n",
    "--BAB--<br>\n",
    "-CBABC-<br>\n",
    "DCBABCD"
   ]
  },
  {
   "cell_type": "code",
   "execution_count": 107,
   "metadata": {},
   "outputs": [
    {
     "name": "stdout",
     "output_type": "stream",
     "text": [
      "---------A---------\n",
      "--------BAB--------\n",
      "-------CBABC-------\n",
      "------DCBABCD------\n",
      "-----EDCBABCDE-----\n",
      "----FEDCBABCDEF----\n",
      "---GFEDCBABCDEFG---\n",
      "--HGFEDCBABCDEFGH--\n",
      "-IHGFEDCBABCDEFGHI-\n",
      "JIHGFEDCBABCDEFGHIJ\n",
      "---------------------------------------------------------------------\n",
      "-----A-----\n",
      "----BAB----\n",
      "---CBABC---\n",
      "--DCBABCD--\n",
      "-EDCBABCDE-\n",
      "FEDCBABCDEF\n",
      "---------------------------------------------------------------------\n"
     ]
    }
   ],
   "source": [
    "def F(n):\n",
    "    for i in range(n):\n",
    "        for j in range(n-i-1):\n",
    "            print(\"-\", end=\"\")\n",
    "        for k in range(i+1):\n",
    "            print(chr(ord('A') + i-k), end=\"\")\n",
    "        for p in range(i):\n",
    "            print(chr(ord('A') + p+1), end=\"\")\n",
    "        for q in range(n-i-1):\n",
    "            print(\"-\", end=\"\")\n",
    "        print()\n",
    "    print(\"---------------------------------------------------------------------\")\n",
    "            \n",
    "\n",
    "# Tests\n",
    "F(10)\n",
    "F(6)"
   ]
  },
  {
   "cell_type": "markdown",
   "metadata": {},
   "source": [
    "## 1.b\n",
    "Make a function F that takes only one argument, a dictionary(dict) d.\n",
    "The keys of d are integers and the values of d are a tuple of type (x (int), y (int)).\n",
    "You must print out the dict in the format \"-key-, -x-, -y-\" with each entry in a new line. Print it for each of the three sorted orders, by key values ascending, by x values descending, by y values ascending."
   ]
  },
  {
   "cell_type": "code",
   "execution_count": 108,
   "metadata": {},
   "outputs": [
    {
     "name": "stdout",
     "output_type": "stream",
     "text": [
      "-1-, -1-, -2-\n",
      "-2-, --1-, -4-\n",
      "-4-, -2-, -3-\n",
      "-5-, --4-, -3-\n",
      "---------------------------------------------------------------\n",
      "-4-, -2-, -3-\n",
      "-1-, -1-, -2-\n",
      "-2-, --1-, -4-\n",
      "-5-, --4-, -3-\n",
      "---------------------------------------------------------------\n",
      "-1-, -1-, -2-\n",
      "-5-, --4-, -3-\n",
      "-4-, -2-, -3-\n",
      "-2-, --1-, -4-\n",
      "***************************************************************\n",
      "***************************************************************\n",
      "--8-, -4-, -2-\n",
      "-5-, -9-, --10-\n",
      "-6-, --3-, -4-\n",
      "-7-, -2-, -1-\n",
      "---------------------------------------------------------------\n",
      "-5-, -9-, --10-\n",
      "--8-, -4-, -2-\n",
      "-7-, -2-, -1-\n",
      "-6-, --3-, -4-\n",
      "---------------------------------------------------------------\n",
      "-5-, -9-, --10-\n",
      "-7-, -2-, -1-\n",
      "--8-, -4-, -2-\n",
      "-6-, --3-, -4-\n",
      "***************************************************************\n",
      "***************************************************************\n"
     ]
    }
   ],
   "source": [
    "def F(d : dict):\n",
    "    for key in sorted(d.keys()):\n",
    "        x, y = d[key]\n",
    "        print(f\"-{key}-, -{x}-, -{y}-\")\n",
    "    print(\"---------------------------------------------------------------\")\n",
    "    for key, (x, y) in sorted(d.items(), key=lambda item: item[1][0], reverse=True):\n",
    "        print(f\"-{key}-, -{x}-, -{y}-\")\n",
    "    print(\"---------------------------------------------------------------\")\n",
    "    for key, (x, y) in sorted(d.items(), key=lambda item: item[1][1]):\n",
    "        print(f\"-{key}-, -{x}-, -{y}-\")\n",
    "    print(\"***************************************************************\")\n",
    "    print(\"***************************************************************\")\n",
    "\n",
    "# Tests\n",
    "F({1 : (1, 2), 2 : (-1, 4), 5 : (-4, 3), 4 : (2, 3)})\n",
    "F({-8 : (4, 2), 6 : (-3, 4), 7 : (2, 1), 5 : (9, -10)})"
   ]
  },
  {
   "cell_type": "markdown",
   "metadata": {},
   "source": [
    "## 2 Working with Student Records\n",
    "\n",
    "Use the data in **student_records.csv** to complete the given tasks. Do not include any external libraries. Use a Python dictionary if required.\n",
    "\n",
    "### Reference\n",
    "- [Python Dictionaries](https://www.w3schools.com/python/python_dictionaries.asp)\n"
   ]
  },
  {
   "cell_type": "markdown",
   "metadata": {},
   "source": [
    "#### 2.a: open the student_records.csv file and print out the first 10 rows"
   ]
  },
  {
   "cell_type": "code",
   "execution_count": 109,
   "metadata": {},
   "outputs": [
    {
     "name": "stdout",
     "output_type": "stream",
     "text": [
      "{'roll': 588946, 'department': 'MA', 'credit': 3, 'course_name': 'EC250', 'course_type': 'hasmed_elective', 'grade': 'AB'}\n",
      "{'roll': 145372, 'department': 'EP', 'credit': 4, 'course_name': 'EP407', 'course_type': 'hasmed_elective', 'grade': 'CC'}\n",
      "{'roll': 834515, 'department': 'MA', 'credit': 8, 'course_name': 'EP885', 'course_type': 'hasmed_elective', 'grade': 'BB'}\n",
      "{'roll': 344265, 'department': 'CSE', 'credit': 6, 'course_name': 'CSE699', 'course_type': 'honours', 'grade': 'AB'}\n",
      "{'roll': 358405, 'department': 'MA', 'credit': 3, 'course_name': 'EE460', 'course_type': 'minor', 'grade': 'AP'}\n",
      "{'roll': 781075, 'department': 'CE', 'credit': 8, 'course_name': 'CE540', 'course_type': 'honours', 'grade': 'CC'}\n",
      "{'roll': 180828, 'department': 'CSE', 'credit': 6, 'course_name': 'CE880', 'course_type': 'minor', 'grade': 'AB'}\n",
      "{'roll': 981238, 'department': 'MM', 'credit': 4, 'course_name': 'CSE226', 'course_type': 'minor', 'grade': 'AB'}\n",
      "{'roll': 836881, 'department': 'MM', 'credit': 8, 'course_name': 'MM530', 'course_type': 'core', 'grade': 'AA'}\n",
      "{'roll': 310604, 'department': 'EE', 'credit': 8, 'course_name': 'EE202', 'course_type': 'core', 'grade': 'AB'}\n"
     ]
    }
   ],
   "source": [
    "#TODO\n",
    "data = {}\n",
    "row = 0\n",
    "ALL_GRADES = list()\n",
    "ALL_ROLL_NUM = list()\n",
    "\n",
    "with open(r\"student_records.csv\", \"r\") as file:\n",
    "    header = file.readline().strip().split(',')\n",
    "    \n",
    "    for line in file:\n",
    "        list_of_items = line.split(\",\")\n",
    "        \n",
    "        roll_num = int(list_of_items[0])\n",
    "        department = list_of_items[1]\n",
    "        credit = int(list_of_items[2])\n",
    "        course_name = list_of_items[3]\n",
    "        course_type = list_of_items[4]\n",
    "        grade = list_of_items[5].strip(\"\\n\")\n",
    "        \n",
    "        ALL_GRADES.append(grade)\n",
    "        ALL_ROLL_NUM.append(roll_num)\n",
    "        \n",
    "        data[row] = {\"roll\" : roll_num,\n",
    "                        \"department\":department,\n",
    "                          \"credit\":credit,\n",
    "                         \"course_name\":course_name,\n",
    "                         \"course_type\":course_type,\n",
    "                         \"grade\":grade}\n",
    "        row += 1\n",
    "for row in range(10):\n",
    "    print(data[row])"
   ]
  },
  {
   "cell_type": "code",
   "execution_count": 110,
   "metadata": {},
   "outputs": [
    {
     "name": "stdout",
     "output_type": "stream",
     "text": [
      "3913\n",
      "3913\n",
      "100\n"
     ]
    }
   ],
   "source": [
    "print(len(data))\n",
    "print(len(ALL_ROLL_NUM))\n",
    "print(len(list(set(ALL_ROLL_NUM))))"
   ]
  },
  {
   "cell_type": "code",
   "execution_count": 111,
   "metadata": {},
   "outputs": [
    {
     "name": "stdout",
     "output_type": "stream",
     "text": [
      "['CC', 'AP', 'AA', 'BB', 'AB', 'BC']\n"
     ]
    }
   ],
   "source": [
    "print(list(set(ALL_GRADES)))"
   ]
  },
  {
   "cell_type": "markdown",
   "metadata": {},
   "source": [
    "#### 2.b: Print out the total credits and calculte CPI of each student. \n",
    "CPI is the weighted average of core courses, and electives (weights being the letter grades converted to number AP,AA=10, AB=9, BB=8, BC=7, CC=6)"
   ]
  },
  {
   "cell_type": "code",
   "execution_count": 112,
   "metadata": {},
   "outputs": [],
   "source": [
    "grade2num = {\"AP\" : 10,\n",
    "            \"AA\" : 10,\n",
    "            \"AB\" : 9,\n",
    "            \"BB\" : 8,\n",
    "            \"BC\" : 7,\n",
    "            \"CC\" : 6,\n",
    "            \"CD\" : 5,\n",
    "            \"DD\" : 4,\n",
    "            \"FR\" : 0}"
   ]
  },
  {
   "cell_type": "code",
   "execution_count": 117,
   "metadata": {
    "scrolled": true
   },
   "outputs": [
    {
     "name": "stdout",
     "output_type": "stream",
     "text": [
      "Total credits = 199.0, CPI =  8.69\n",
      "Total credits = 172.0, CPI =  8.02\n",
      "Total credits = 189.0, CPI =  8.31\n",
      "Total credits = 156.0, CPI =  9.10\n",
      "Total credits = 211.0, CPI =  8.34\n",
      "Total credits = 256.0, CPI =  8.26\n",
      "Total credits = 185.0, CPI =  8.68\n",
      "Total credits = 173.0, CPI =  8.51\n",
      "Total credits = 220.0, CPI =  8.30\n",
      "Total credits = 157.0, CPI =  8.57\n",
      "Total credits = 256.0, CPI =  8.43\n",
      "Total credits = 228.0, CPI =  8.37\n",
      "Total credits = 206.0, CPI =  8.01\n",
      "Total credits = 188.0, CPI =  8.40\n",
      "Total credits = 248.0, CPI =  8.30\n",
      "Total credits = 239.0, CPI =  8.47\n",
      "Total credits = 235.0, CPI =  8.15\n",
      "Total credits = 241.0, CPI =  8.17\n",
      "Total credits = 195.0, CPI =  8.18\n",
      "Total credits = 200.0, CPI =  8.69\n",
      "Total credits = 164.0, CPI =  8.61\n",
      "Total credits = 155.0, CPI =  8.22\n",
      "Total credits = 216.0, CPI =  8.23\n",
      "Total credits = 223.0, CPI =  8.64\n",
      "Total credits = 185.0, CPI =  7.73\n",
      "Total credits = 222.0, CPI =  8.43\n",
      "Total credits = 225.0, CPI =  8.39\n",
      "Total credits = 210.0, CPI =  8.64\n",
      "Total credits = 160.0, CPI =  8.45\n",
      "Total credits = 159.0, CPI =  7.99\n",
      "Total credits = 166.0, CPI =  8.51\n",
      "Total credits = 241.0, CPI =  8.54\n",
      "Total credits = 182.0, CPI =  7.90\n",
      "Total credits = 214.0, CPI =  8.19\n",
      "Total credits = 205.0, CPI =  8.45\n",
      "Total credits = 248.0, CPI =  8.28\n",
      "Total credits = 260.0, CPI =  8.38\n",
      "Total credits = 240.0, CPI =  8.20\n",
      "Total credits = 182.0, CPI =  8.24\n",
      "Total credits = 188.0, CPI =  8.56\n",
      "Total credits = 220.0, CPI =  8.08\n",
      "Total credits = 217.0, CPI =  8.40\n",
      "Total credits = 194.0, CPI =  8.12\n",
      "Total credits = 273.0, CPI =  7.92\n",
      "Total credits = 244.0, CPI =  8.45\n",
      "Total credits = 226.0, CPI =  8.05\n",
      "Total credits = 196.0, CPI =  8.71\n",
      "Total credits = 186.0, CPI =  8.34\n",
      "Total credits = 173.0, CPI =  8.41\n",
      "Total credits = 275.0, CPI =  8.25\n",
      "Total credits = 195.0, CPI =  8.57\n",
      "Total credits = 155.0, CPI =  8.46\n",
      "Total credits = 200.0, CPI =  8.49\n",
      "Total credits = 237.0, CPI =  8.23\n",
      "Total credits = 171.0, CPI =  8.52\n",
      "Total credits = 170.0, CPI =  8.80\n",
      "Total credits = 217.0, CPI =  7.99\n",
      "Total credits = 165.0, CPI =  8.45\n",
      "Total credits = 214.0, CPI =  8.47\n",
      "Total credits = 158.0, CPI =  8.29\n",
      "Total credits = 243.0, CPI =  8.75\n",
      "Total credits = 169.0, CPI =  8.27\n",
      "Total credits = 182.0, CPI =  8.52\n",
      "Total credits = 227.0, CPI =  8.53\n",
      "Total credits = 180.0, CPI =  7.78\n",
      "Total credits = 226.0, CPI =  8.72\n",
      "Total credits = 217.0, CPI =  8.58\n",
      "Total credits = 244.0, CPI =  8.59\n",
      "Total credits = 179.0, CPI =  8.96\n",
      "Total credits = 196.0, CPI =  8.35\n",
      "Total credits = 220.0, CPI =  8.37\n",
      "Total credits = 185.0, CPI =  8.35\n",
      "Total credits = 257.0, CPI =  8.53\n",
      "Total credits = 151.0, CPI =  8.31\n",
      "Total credits = 166.0, CPI =  8.07\n",
      "Total credits = 170.0, CPI =  8.46\n",
      "Total credits = 217.0, CPI =  8.57\n",
      "Total credits = 209.0, CPI =  8.27\n",
      "Total credits = 210.0, CPI =  8.13\n",
      "Total credits = 234.0, CPI =  8.79\n",
      "Total credits = 215.0, CPI =  8.21\n",
      "Total credits = 191.0, CPI =  7.99\n",
      "Total credits = 186.0, CPI =  8.33\n",
      "Total credits = 222.0, CPI =  8.21\n",
      "Total credits = 206.0, CPI =  8.90\n",
      "Total credits = 162.0, CPI =  8.62\n",
      "Total credits = 200.0, CPI =  8.58\n",
      "Total credits = 203.0, CPI =  8.70\n",
      "Total credits = 200.0, CPI =  8.60\n",
      "Total credits = 251.0, CPI =  8.66\n",
      "Total credits = 215.0, CPI =  8.53\n",
      "Total credits = 200.0, CPI =  9.13\n",
      "Total credits = 201.0, CPI =  8.86\n",
      "Total credits = 181.0, CPI =  8.94\n",
      "Total credits = 169.0, CPI =  8.18\n",
      "Total credits = 185.0, CPI =  8.38\n",
      "Total credits = 197.0, CPI =  8.63\n",
      "Total credits = 251.0, CPI =  8.49\n",
      "Total credits = 163.0, CPI =  8.54\n",
      "Total credits = 167.0, CPI =  8.39\n"
     ]
    }
   ],
   "source": [
    "#TODO\n",
    "TOTAL_CREDITS = list()\n",
    "CPI = list()\n",
    "roll_num_temp = ALL_ROLL_NUM\n",
    "\n",
    "for roll in roll_num_temp:\n",
    "    indices = [i for i,x in enumerate(roll_num_temp) if x==roll]\n",
    "    credit_sum = 0.0\n",
    "    cpi_numerator = 0.0\n",
    "    cpi = 0.0\n",
    "    \n",
    "    for index in indices: \n",
    "        credit_sum += data[index]['credit']\n",
    "        cpi_numerator += grade2num[data[index]['grade']]*data[index]['credit']\n",
    "    \n",
    "    if credit_sum > 0:\n",
    "        cpi = cpi_numerator/credit_sum\n",
    "        print(f\"Total credits = {credit_sum}, CPI = {cpi : .2f}\")\n",
    "    \n",
    "        TOTAL_CREDITS.append(credit_sum)\n",
    "        CPI.append(cpi)\n",
    "    else:\n",
    "        cpi = 0.0\n",
    "    \n",
    "    roll_num_temp = [x for x in roll_num_temp if x!=roll]\n",
    "    # my kernel was running too slow so I was testing for only one student\n",
    "    #break\n",
    "    "
   ]
  },
  {
   "cell_type": "markdown",
   "metadata": {},
   "source": [
    "#### 2.c: Print out the roll numbers of all students who meet the graduation requirements \n",
    "Atleast 20 credist of core course, 15 credits of department elective, 10 credits of flexible elective and 5 credits of hasmed electives"
   ]
  },
  {
   "cell_type": "code",
   "execution_count": 138,
   "metadata": {},
   "outputs": [
    {
     "name": "stdout",
     "output_type": "stream",
     "text": [
      "588946\n",
      "145372\n",
      "358405\n",
      "781075\n",
      "180828\n",
      "981238\n",
      "836881\n",
      "847809\n",
      "773982\n",
      "500658\n",
      "364146\n",
      "871746\n",
      "270007\n",
      "597353\n",
      "986057\n",
      "379479\n",
      "582912\n",
      "613401\n",
      "144528\n",
      "485484\n",
      "199713\n",
      "214270\n",
      "517837\n",
      "482623\n",
      "955757\n",
      "143856\n",
      "521087\n",
      "265922\n",
      "283796\n",
      "534763\n",
      "391848\n",
      "971123\n",
      "207443\n",
      "488661\n",
      "782129\n",
      "928288\n",
      "581858\n",
      "733782\n",
      "282482\n",
      "572815\n",
      "608952\n",
      "628849\n",
      "630568\n",
      "388969\n",
      "159438\n",
      "841365\n",
      "870642\n",
      "970791\n",
      "143142\n",
      "998293\n",
      "907454\n",
      "608522\n",
      "362471\n",
      "465496\n",
      "138296\n",
      "461584\n",
      "787967\n",
      "750259\n"
     ]
    }
   ],
   "source": [
    "#TODO\n",
    "roll_num_temp = ALL_ROLL_NUM\n",
    "for roll in roll_num_temp:\n",
    "    indices = [i for i,x in enumerate(roll_num_temp) if x==roll]\n",
    "    core_credits = 0\n",
    "    de_credits = 0\n",
    "    fe_credits = 0\n",
    "    hs_credits = 0\n",
    "    \n",
    "    for index in indices: \n",
    "        if(data[index]['course_type'] == \"core\"):\n",
    "            core_credits += data[index]['credit']\n",
    "        elif (data[index]['course_type'] == \"department_elective\"):\n",
    "            de_credits += data[index]['credit']\n",
    "        elif (data[index]['course_type'] == \"flexible_elective\"):\n",
    "            fe_credits += data[index]['credit']\n",
    "        elif (data[index]['course_type'] == \"hasmed_elective\"):\n",
    "            hs_credits += data[index]['credit']\n",
    "    \n",
    "    if(core_credits >= 20 and de_credits >= 15 and fe_credits >= 10 and hs_credits >= 5):\n",
    "        print(roll)\n",
    "    \n",
    "    roll_num_temp = [x for x in roll_num_temp if x!=roll]\n",
    "    # my kernel was running too slow so I was testing for only one student\n",
    "    #break"
   ]
  },
  {
   "cell_type": "markdown",
   "metadata": {},
   "source": [
    "#### 2.d: Print out the roll numbers of all students who completed a minor \n",
    "Atleast 10 credits with minor tag in a specific department"
   ]
  },
  {
   "cell_type": "code",
   "execution_count": 139,
   "metadata": {},
   "outputs": [
    {
     "name": "stdout",
     "output_type": "stream",
     "text": [
      "588946\n",
      "145372\n",
      "834515\n",
      "344265\n",
      "358405\n",
      "781075\n",
      "180828\n",
      "981238\n",
      "836881\n",
      "310604\n",
      "847809\n",
      "773982\n",
      "500658\n",
      "810863\n",
      "124663\n",
      "364146\n",
      "871746\n",
      "270007\n",
      "597353\n",
      "986057\n",
      "718510\n",
      "836431\n",
      "379479\n",
      "582912\n",
      "788020\n",
      "613401\n",
      "144528\n",
      "485484\n",
      "199713\n",
      "851029\n",
      "845623\n",
      "150503\n",
      "214270\n",
      "517837\n",
      "482623\n",
      "721490\n",
      "955757\n",
      "589528\n",
      "143856\n",
      "571782\n",
      "973158\n",
      "703403\n",
      "960395\n",
      "521087\n",
      "461971\n",
      "879634\n",
      "716985\n",
      "194063\n",
      "265922\n",
      "283796\n",
      "203200\n",
      "301135\n",
      "327122\n",
      "381526\n",
      "534763\n",
      "391848\n",
      "207443\n",
      "488661\n",
      "928288\n",
      "581858\n",
      "733782\n",
      "282482\n",
      "572815\n",
      "608952\n",
      "628849\n",
      "630568\n",
      "388969\n",
      "478606\n",
      "995208\n",
      "841365\n",
      "970791\n",
      "143142\n",
      "998293\n",
      "907454\n",
      "681499\n",
      "888886\n",
      "608522\n",
      "465496\n",
      "208100\n",
      "138296\n",
      "775967\n",
      "692318\n",
      "461584\n",
      "626000\n",
      "458200\n",
      "581065\n",
      "787967\n",
      "381227\n",
      "750259\n",
      "881983\n",
      "294697\n",
      "816041\n",
      "993835\n"
     ]
    }
   ],
   "source": [
    "#TODO\n",
    "roll_num_temp = ALL_ROLL_NUM\n",
    "for roll in roll_num_temp:\n",
    "    indices = [i for i,x in enumerate(roll_num_temp) if x==roll]\n",
    "    minor_credits = 0\n",
    "    \n",
    "    for index in indices: \n",
    "        if(data[index]['course_type'] == \"minor\"):\n",
    "            minor_credits += data[index]['credit']\n",
    "            \n",
    "    if(minor_credits >= 10):\n",
    "        print(roll)\n",
    "    \n",
    "    roll_num_temp = [x for x in roll_num_temp if x!=roll]\n",
    "    \n",
    "    # my kernel was running too slow so I was testing for only one student\n",
    "    #break"
   ]
  },
  {
   "cell_type": "markdown",
   "metadata": {},
   "source": [
    "#### 2.e: Print out the roll numbers of all students who completed a honours\n",
    "Atleast 10 credits with honours tag and 20 core credits"
   ]
  },
  {
   "cell_type": "code",
   "execution_count": 140,
   "metadata": {},
   "outputs": [
    {
     "name": "stdout",
     "output_type": "stream",
     "text": [
      "588946\n",
      "145372\n",
      "834515\n",
      "344265\n",
      "358405\n",
      "781075\n",
      "180828\n",
      "981238\n",
      "836881\n",
      "310604\n",
      "847809\n",
      "773982\n",
      "500658\n",
      "810863\n",
      "124663\n",
      "364146\n",
      "871746\n",
      "270007\n",
      "986057\n",
      "718510\n",
      "836431\n",
      "379479\n",
      "582912\n",
      "788020\n",
      "613401\n",
      "144528\n",
      "485484\n",
      "680096\n",
      "199713\n",
      "851029\n",
      "845623\n",
      "150503\n",
      "214270\n",
      "517837\n",
      "482623\n",
      "721490\n",
      "955757\n",
      "589528\n",
      "143856\n",
      "571782\n",
      "973158\n",
      "703403\n",
      "960395\n",
      "521087\n",
      "461971\n",
      "879634\n",
      "716985\n",
      "265922\n",
      "283796\n",
      "203200\n",
      "301135\n",
      "327122\n",
      "381526\n",
      "534763\n",
      "391848\n",
      "329535\n",
      "971123\n",
      "207443\n",
      "488661\n",
      "782129\n",
      "928288\n",
      "581858\n",
      "733782\n",
      "282482\n",
      "572815\n",
      "608952\n",
      "628849\n",
      "630568\n",
      "388969\n",
      "159438\n",
      "478606\n",
      "995208\n",
      "841365\n",
      "870642\n",
      "970791\n",
      "143142\n",
      "998293\n",
      "907454\n",
      "681499\n",
      "888886\n",
      "608522\n",
      "362471\n",
      "465496\n",
      "138296\n",
      "775967\n",
      "692318\n",
      "461584\n",
      "626000\n",
      "458200\n",
      "581065\n",
      "787967\n",
      "381227\n",
      "750259\n",
      "881983\n",
      "294697\n",
      "816041\n",
      "993835\n"
     ]
    }
   ],
   "source": [
    "#TODO\n",
    "roll_num_temp = ALL_ROLL_NUM\n",
    "for roll in roll_num_temp:\n",
    "    indices = [i for i,x in enumerate(roll_num_temp) if x==roll]\n",
    "    honor_credits = 0\n",
    "    \n",
    "    for index in indices: \n",
    "        if(data[index]['course_type'] == \"honours\"):\n",
    "            honor_credits += data[index]['credit']\n",
    "            \n",
    "    if(honor_credits >= 10):\n",
    "        print(roll)\n",
    "    \n",
    "    roll_num_temp = [x for x in roll_num_temp if x!=roll]\n",
    "    \n",
    "    # my kernel was running too slow so I was testing for only one student\n",
    "    #break"
   ]
  },
  {
   "cell_type": "markdown",
   "metadata": {},
   "source": [
    "# **SciPy** "
   ]
  },
  {
   "cell_type": "markdown",
   "metadata": {},
   "source": [
    "## Part A\n",
    "Minimize the function $f(x, y) = 2(x - y - 3)^2 + 4(x + 2y + 1)^4$.<br>\n",
    "With the constraints : $ x - y \\ge -3, (x + 2)^2 + (y + 1)^2 \\le 5$ <br>\n",
    "Using scipy.optimize.minimize with constraints. (Hint: Look at the examples in the official documentation)"
   ]
  },
  {
   "cell_type": "code",
   "execution_count": 121,
   "metadata": {},
   "outputs": [
    {
     "data": {
      "text/plain": [
       "array([ 1.216848  , -1.29254909])"
      ]
     },
     "execution_count": 121,
     "metadata": {},
     "output_type": "execute_result"
    }
   ],
   "source": [
    "#TODO\n",
    "from scipy.optimize import minimize\n",
    "\n",
    "func = lambda x: 2*(x[0] - x[1] - 3)**2 + 4*(x[0] + 2*x[1] + 1)**4\n",
    "result = minimize(func, (1,0), constraints = (\n",
    "                                            {\n",
    "                                                \"type\" : \"ineq\", \"fun\" : lambda x: x[0] - x[1] + 3,\n",
    "                                                \"type\" : \"ineq\", \"fun\" : lambda x:5 - (x[0]+1)**2 - (x[1]+1)**2\n",
    "                                            }))\n",
    "result.x"
   ]
  },
  {
   "cell_type": "markdown",
   "metadata": {},
   "source": [
    "# Part B\n",
    "Evaluate the line integral of the function $f(x, y) = x^2 + y^4$ along the circle $ x^2 + y^2 = 3 $ anticlockwise (scalar integral, not vector). You must use scipy for integration but you may use parameterization"
   ]
  },
  {
   "cell_type": "code",
   "execution_count": 122,
   "metadata": {},
   "outputs": [
    {
     "name": "stdout",
     "output_type": "stream",
     "text": [
      "Integration = 20.091789367798974, with error = 2.230636716204934e-13\n"
     ]
    }
   ],
   "source": [
    "#TODO\n",
    "import numpy as np\n",
    "from scipy.integrate import quad\n",
    "\n",
    "lower_b = -1*np.sqrt(3)\n",
    "uper_b = +1*np.sqrt(3)\n",
    "\n",
    "integrand = lambda x: x**2 + (3 - x**2)**2\n",
    "integral, integral_error = quad(integrand, lower_b, uper_b)\n",
    "print(f\"Integration = {integral}, with error = {integral_error}\")"
   ]
  },
  {
   "cell_type": "markdown",
   "metadata": {},
   "source": [
    "# **Numpy**"
   ]
  },
  {
   "cell_type": "markdown",
   "metadata": {},
   "source": [
    "### Read Lisan_Al_Gaib.pdf for problem description and complete the following functions"
   ]
  },
  {
   "cell_type": "code",
   "execution_count": 123,
   "metadata": {},
   "outputs": [],
   "source": [
    "import time # to time the execution\n",
    "import numpy as np\n",
    "import matplotlib.pyplot as plt"
   ]
  },
  {
   "cell_type": "code",
   "execution_count": 124,
   "metadata": {},
   "outputs": [],
   "source": [
    "### TODO 1\n",
    "### Load data from data_path\n",
    "### Check the input file spice_locations.txt to understand the Data Format\n",
    "### Return : np array of size Nx2\n",
    "def load_data(data_path):\n",
    "    ALL_LOCATIONS = list()\n",
    "    with open(data_path, 'r') as file:\n",
    "        for line in file:\n",
    "            x, y = line.strip().strip(\"\\n\").split(\",\")\n",
    "            location = list()\n",
    "            location.append(float(x))\n",
    "            location.append(float(y))\n",
    "            ALL_LOCATIONS.append(location)\n",
    "    return np.array(ALL_LOCATIONS)"
   ]
  },
  {
   "cell_type": "code",
   "execution_count": 125,
   "metadata": {},
   "outputs": [
    {
     "name": "stdout",
     "output_type": "stream",
     "text": [
      "(60, 2)\n"
     ]
    }
   ],
   "source": [
    "print(load_data(\"spice_locations.txt\").shape)"
   ]
  },
  {
   "cell_type": "code",
   "execution_count": 126,
   "metadata": {},
   "outputs": [
    {
     "data": {
      "text/plain": [
       "array([[-2.12729941,  1.75357153],\n",
       "       [-0.34003029, -0.00670758],\n",
       "       [-3.2199068 , -2.2200274 ]])"
      ]
     },
     "execution_count": 126,
     "metadata": {},
     "output_type": "execute_result"
    }
   ],
   "source": [
    "load_data(\"spice_locations.txt\")[:3, :]"
   ]
  },
  {
   "cell_type": "code",
   "execution_count": null,
   "metadata": {},
   "outputs": [],
   "source": [
    "### TODO 2.1\n",
    "### If init_centers is None, initialize the centers by selecting K data points at random without replacement\n",
    "### Else, use the centers provided in init_centers\n",
    "### Return : np array of size Kx2\n",
    "def initialise_centers(data, K, init_centers=None):\n",
    "    # assuming data is np array\n",
    "    if init_centers is not None:\n",
    "        return init_centers\n",
    "    \n",
    "    indices = np.random.choice(data.shape[0], K, replace=False) # uniform distribution\n",
    "    \n",
    "    return data[indices]"
   ]
  },
  {
   "cell_type": "code",
   "execution_count": 128,
   "metadata": {},
   "outputs": [
    {
     "name": "stdout",
     "output_type": "stream",
     "text": [
      "[[5 6]\n",
      " [8 9]\n",
      " [2 3]]\n",
      "<class 'numpy.ndarray'>\n"
     ]
    }
   ],
   "source": [
    "A = np.array([[1,2],[2,3],[3,4],[4,5],[5,6],[6,7],[7,8],[8,9]])\n",
    "indices = np.random.choice(A.shape[0], 3, replace=False)\n",
    "print(A[indices])\n",
    "print(type(A))"
   ]
  },
  {
   "cell_type": "code",
   "execution_count": 129,
   "metadata": {},
   "outputs": [],
   "source": [
    "### TODO 2.2\n",
    "### Initialize the labels to all ones to size (N,) where N is the number of data points\n",
    "### Return : np array of size N\n",
    "def initialise_labels(data):\n",
    "    return np.ones(data.shape[0])"
   ]
  },
  {
   "cell_type": "code",
   "execution_count": 130,
   "metadata": {},
   "outputs": [
    {
     "data": {
      "text/plain": [
       "array([1., 1., 1., 1., 1., 1., 1., 1.])"
      ]
     },
     "execution_count": 130,
     "metadata": {},
     "output_type": "execute_result"
    }
   ],
   "source": [
    "np.ones(A.shape[0])"
   ]
  },
  {
   "cell_type": "code",
   "execution_count": 131,
   "metadata": {},
   "outputs": [],
   "source": [
    "### TODO 3.1 : E step\n",
    "### For Each data point, find the distance to each center\n",
    "### Return : np array of size NxK\n",
    "def calculate_distances(data, centers):\n",
    "    # I could only think of using loops here\n",
    "    # I used ChatGPT here only and no where else\n",
    "    distances = np.sqrt(((data[:, np.newaxis, :] - centers[np.newaxis, :, :]) ** 2).sum(axis=2))\n",
    "    return distances"
   ]
  },
  {
   "cell_type": "code",
   "execution_count": 132,
   "metadata": {},
   "outputs": [],
   "source": [
    "### TODO 3.2 : E step\n",
    "### For Each data point, assign the label of the nearest center\n",
    "### Return : np array of size N\n",
    "def update_labels(distances):\n",
    "    return np.argmin(distances, axis=1)"
   ]
  },
  {
   "cell_type": "code",
   "execution_count": 133,
   "metadata": {},
   "outputs": [],
   "source": [
    "### TODO 4 : M step\n",
    "### Update the centers to the mean of the data points assigned to it\n",
    "### Return : np array of size Kx2\n",
    "def update_centers(data, labels, K):\n",
    "    centers = np.zeros((K, data.shape[1]))\n",
    "    # used GPT here\n",
    "    for k in range(K):\n",
    "        centers[k] = data[labels == k].mean(axis=0) if np.any(labels == k) else np.zeros(data.shape[1])\n",
    "    \n",
    "    return centers"
   ]
  },
  {
   "cell_type": "code",
   "execution_count": 134,
   "metadata": {},
   "outputs": [],
   "source": [
    "### TODO 6 : Check convergence\n",
    "### Check if the labels have changed from the previous iteration\n",
    "### Return : True / False\n",
    "def check_termination(labels1, labels2):\n",
    "    if np.array_equal(labels1, labels2):\n",
    "        return True\n",
    "    else:\n",
    "        return False"
   ]
  },
  {
   "cell_type": "code",
   "execution_count": 135,
   "metadata": {},
   "outputs": [],
   "source": [
    "### DON'T CHANGE ANYTHING IN THE FOLLOWING FUNCTION\n",
    "def kmeans(data_path:str, K:int, init_centers):\n",
    "    '''\n",
    "    Input :\n",
    "        data (type str): path to the file containing the data\n",
    "        K (type int): number of clusters\n",
    "        init_centers (type numpy.ndarray): initial centers. shape = (K, 2) or None\n",
    "    Output :\n",
    "        centers (type numpy.ndarray): final centers. shape = (K, 2)\n",
    "        labels (type numpy.ndarray): label of each data point. shape = (N,)\n",
    "        time (type float): time taken by the algorithm to converge in seconds\n",
    "    N is the number of data points each of shape (2,)\n",
    "    '''\n",
    "    data = load_data(data_path)    \n",
    "    centers = initialise_centers(data, K, init_centers)\n",
    "    labels = initialise_labels(data)\n",
    "\n",
    "    start_time = time.time() # Time stamp \n",
    "\n",
    "    while True:\n",
    "        distances = calculate_distances(data, centers)\n",
    "        labels_new = update_labels(distances)\n",
    "        centers = update_centers(data, labels_new, K)\n",
    "        if check_termination(labels, labels_new): break\n",
    "        else: labels = labels_new\n",
    " \n",
    "    end_time = time.time() # Time stamp after the algorithm ends\n",
    "    return centers, labels, end_time - start_time "
   ]
  },
  {
   "cell_type": "code",
   "execution_count": 136,
   "metadata": {},
   "outputs": [],
   "source": [
    "### TODO 7\n",
    "def visualise(data_path, labels, centers):\n",
    "    data = load_data(data_path)\n",
    "\n",
    "    # Scatter plot of the data points\n",
    "    plt.scatter(data[:, 0], data[:, 1], c=labels, s=50, cmap='viridis')\n",
    "    plt.scatter(centers[:, 0], centers[:, 1], c='black', s=200, alpha=0.5)\n",
    "\n",
    "    ### Set title as 'K-means clustering'\n",
    "    plt.title(\"K-means clustering\")\n",
    "\n",
    "    ### Set xlabel as 'Longitude'\n",
    "    plt.xlabel(\"Longitude\")\n",
    "\n",
    "    ### Set ylabel as 'Latitude'\n",
    "    plt.ylabel(\"Latitude\")\n",
    "\n",
    "    ### Save the plot as 'kmeans.png'\n",
    "    plt.savefig(\"kmeans.png\")\n",
    "\n",
    "\n",
    "    ## DO NOT CHANGE THE FOLLOWING LINE\n",
    "    return plt"
   ]
  },
  {
   "cell_type": "code",
   "execution_count": 137,
   "metadata": {},
   "outputs": [
    {
     "name": "stdout",
     "output_type": "stream",
     "text": [
      "Time taken for the algorithm to converge: 0.0\n"
     ]
    },
    {
     "data": {
      "text/plain": [
       "<module 'matplotlib.pyplot' from 'C:\\\\Users\\\\Priyanshu\\\\anaconda3\\\\anaconda2\\\\Lib\\\\site-packages\\\\matplotlib\\\\pyplot.py'>"
      ]
     },
     "execution_count": 137,
     "metadata": {},
     "output_type": "execute_result"
    },
    {
     "data": {
      "image/png": "[encoded data removed]",
      "text/plain": [
       "<Figure size 640x480 with 1 Axes>"
      ]
     },
     "metadata": {},
     "output_type": "display_data"
    }
   ],
   "source": [
    "### After you have completed the above functions, run the following code to generate the plot\n",
    "data_path = 'spice_locations.txt'\n",
    "K, init_centers = 2, None\n",
    "centers, labels, time_taken = kmeans(data_path, K, init_centers)\n",
    "print('Time taken for the algorithm to converge:', time_taken)\n",
    "visualise(data_path, labels, centers)"
   ]
  },
  {
   "cell_type": "code",
   "execution_count": null,
   "metadata": {},
   "outputs": [],
   "source": []
  }
 ],
 "metadata": {
  "kernelspec": {
   "display_name": "Python 3 (ipykernel)",
   "language": "python",
   "name": "python3"
  },
  "language_info": {
   "codemirror_mode": {
    "name": "ipython",
    "version": 3
   },
   "file_extension": ".py",
   "mimetype": "text/x-python",
   "name": "python",
   "nbconvert_exporter": "python",
   "pygments_lexer": "ipython3",
   "version": "3.11.5"
  }
 },
 "nbformat": 4,
 "nbformat_minor": 2
}
